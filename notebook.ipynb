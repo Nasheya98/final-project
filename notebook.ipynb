{
 "cells": [
  {
   "cell_type": "markdown",
   "source": "# [Northeastern](https://www.northeastern.edu/) final project\n\n# Predicting heart desease ❤️",
   "metadata": {
    "cell_id": "9385923178404b0dbae96b932a0ac5e1",
    "tags": [],
    "owner_user_id": "2eedc3aa-a940-427e-983a-6f898bf7eeae",
    "deepnote_cell_type": "markdown",
    "deepnote_cell_height": 159.953125
   }
  },
  {
   "cell_type": "markdown",
   "source": "## Importing modules and data 📥",
   "metadata": {
    "cell_id": "b49d269b46534ddbb181d52dd218ff43",
    "tags": [],
    "deepnote_cell_type": "markdown",
    "deepnote_cell_height": 69.96875
   }
  },
  {
   "cell_type": "code",
   "metadata": {
    "cell_id": "9108ffdbfd4d47deac716b5b70b5e6b4",
    "tags": [],
    "deepnote_to_be_reexecuted": false,
    "source_hash": "8df3d0e",
    "execution_start": 1654269730133,
    "execution_millis": 2344,
    "deepnote_cell_type": "code",
    "deepnote_cell_height": 134.953125
   },
   "source": "import pandas as pd\nimport matplotlib.pyplot as plt\nimport seaborn as sns\n",
   "execution_count": 1,
   "outputs": []
  },
  {
   "cell_type": "code",
   "metadata": {
    "cell_id": "603d732dac8c406cb257227b255262d6",
    "tags": [],
    "deepnote_to_be_reexecuted": false,
    "source_hash": "79d5ad81",
    "execution_start": 1654269732492,
    "execution_millis": 749,
    "deepnote_cell_type": "code",
    "deepnote_cell_height": 80.953125
   },
   "source": "heart_df = pd.read_csv('/work/archive-20220531-152154/heart_2020_cleaned.csv')",
   "execution_count": 2,
   "outputs": []
  },
  {
   "cell_type": "code",
   "source": "heart_df",
   "metadata": {
    "cell_id": "cf957d8d375b402086ae645409741f86",
    "tags": [],
    "deepnote_to_be_reexecuted": false,
    "source_hash": "24bad28",
    "execution_start": 1654269744214,
    "execution_millis": 223,
    "deepnote_cell_type": "code",
    "deepnote_cell_height": 599.875
   },
   "outputs": [
    {
     "output_type": "execute_result",
     "execution_count": 3,
     "data": {
      "application/vnd.deepnote.dataframe.v3+json": {
       "column_count": 18,
       "row_count": 319795,
       "columns": [
        {
         "name": "HeartDisease",
         "dtype": "object"
        },
        {
         "name": "BMI",
         "dtype": "float64"
        },
        {
         "name": "Smoking",
         "dtype": "object"
        },
        {
         "name": "AlcoholDrinking",
         "dtype": "object"
        },
        {
         "name": "Stroke",
         "dtype": "object"
        },
        {
         "name": "PhysicalHealth",
         "dtype": "float64"
        },
        {
         "name": "MentalHealth",
         "dtype": "float64"
        },
        {
         "name": "DiffWalking",
         "dtype": "object"
        },
        {
         "name": "Sex",
         "dtype": "object"
        },
        {
         "name": "AgeCategory",
         "dtype": "object"
        },
        {
         "name": "Race",
         "dtype": "object"
        },
        {
         "name": "Diabetic",
         "dtype": "object"
        },
        {
         "name": "PhysicalActivity",
         "dtype": "object"
        },
        {
         "name": "GenHealth",
         "dtype": "object"
        },
        {
         "name": "SleepTime",
         "dtype": "float64"
        },
        {
         "name": "Asthma",
         "dtype": "object"
        },
        {
         "name": "KidneyDisease",
         "dtype": "object"
        },
        {
         "name": "SkinCancer",
         "dtype": "object"
        },
        {
         "name": "_deepnote_index_column",
         "dtype": "int64"
        }
       ],
       "rows": [
        {
         "HeartDisease": "No",
         "BMI": 16.6,
         "Smoking": "Yes",
         "AlcoholDrinking": "No",
         "Stroke": "No",
         "PhysicalHealth": 3,
         "MentalHealth": 30,
         "DiffWalking": "No",
         "Sex": "Female",
         "AgeCategory": "55-59",
         "Race": "White",
         "Diabetic": "Yes",
         "PhysicalActivity": "Yes",
         "GenHealth": "Very good",
         "SleepTime": 5,
         "Asthma": "Yes",
         "KidneyDisease": "No",
         "SkinCancer": "Yes",
         "_deepnote_index_column": 0
        },
        {
         "HeartDisease": "No",
         "BMI": 20.34,
         "Smoking": "No",
         "AlcoholDrinking": "No",
         "Stroke": "Yes",
         "PhysicalHealth": 0,
         "MentalHealth": 0,
         "DiffWalking": "No",
         "Sex": "Female",
         "AgeCategory": "80 or older",
         "Race": "White",
         "Diabetic": "No",
         "PhysicalActivity": "Yes",
         "GenHealth": "Very good",
         "SleepTime": 7,
         "Asthma": "No",
         "KidneyDisease": "No",
         "SkinCancer": "No",
         "_deepnote_index_column": 1
        },
        {
         "HeartDisease": "No",
         "BMI": 26.58,
         "Smoking": "Yes",
         "AlcoholDrinking": "No",
         "Stroke": "No",
         "PhysicalHealth": 20,
         "MentalHealth": 30,
         "DiffWalking": "No",
         "Sex": "Male",
         "AgeCategory": "65-69",
         "Race": "White",
         "Diabetic": "Yes",
         "PhysicalActivity": "Yes",
         "GenHealth": "Fair",
         "SleepTime": 8,
         "Asthma": "Yes",
         "KidneyDisease": "No",
         "SkinCancer": "No",
         "_deepnote_index_column": 2
        },
        {
         "HeartDisease": "No",
         "BMI": 24.21,
         "Smoking": "No",
         "AlcoholDrinking": "No",
         "Stroke": "No",
         "PhysicalHealth": 0,
         "MentalHealth": 0,
         "DiffWalking": "No",
         "Sex": "Female",
         "AgeCategory": "75-79",
         "Race": "White",
         "Diabetic": "No",
         "PhysicalActivity": "No",
         "GenHealth": "Good",
         "SleepTime": 6,
         "Asthma": "No",
         "KidneyDisease": "No",
         "SkinCancer": "Yes",
         "_deepnote_index_column": 3
        },
        {
         "HeartDisease": "No",
         "BMI": 23.71,
         "Smoking": "No",
         "AlcoholDrinking": "No",
         "Stroke": "No",
         "PhysicalHealth": 28,
         "MentalHealth": 0,
         "DiffWalking": "Yes",
         "Sex": "Female",
         "AgeCategory": "40-44",
         "Race": "White",
         "Diabetic": "No",
         "PhysicalActivity": "Yes",
         "GenHealth": "Very good",
         "SleepTime": 8,
         "Asthma": "No",
         "KidneyDisease": "No",
         "SkinCancer": "No",
         "_deepnote_index_column": 4
        },
        {
         "HeartDisease": "Yes",
         "BMI": 28.87,
         "Smoking": "Yes",
         "AlcoholDrinking": "No",
         "Stroke": "No",
         "PhysicalHealth": 6,
         "MentalHealth": 0,
         "DiffWalking": "Yes",
         "Sex": "Female",
         "AgeCategory": "75-79",
         "Race": "Black",
         "Diabetic": "No",
         "PhysicalActivity": "No",
         "GenHealth": "Fair",
         "SleepTime": 12,
         "Asthma": "No",
         "KidneyDisease": "No",
         "SkinCancer": "No",
         "_deepnote_index_column": 5
        },
        {
         "HeartDisease": "No",
         "BMI": 21.63,
         "Smoking": "No",
         "AlcoholDrinking": "No",
         "Stroke": "No",
         "PhysicalHealth": 15,
         "MentalHealth": 0,
         "DiffWalking": "No",
         "Sex": "Female",
         "AgeCategory": "70-74",
         "Race": "White",
         "Diabetic": "No",
         "PhysicalActivity": "Yes",
         "GenHealth": "Fair",
         "SleepTime": 4,
         "Asthma": "Yes",
         "KidneyDisease": "No",
         "SkinCancer": "Yes",
         "_deepnote_index_column": 6
        },
        {
         "HeartDisease": "No",
         "BMI": 31.64,
         "Smoking": "Yes",
         "AlcoholDrinking": "No",
         "Stroke": "No",
         "PhysicalHealth": 5,
         "MentalHealth": 0,
         "DiffWalking": "Yes",
         "Sex": "Female",
         "AgeCategory": "80 or older",
         "Race": "White",
         "Diabetic": "Yes",
         "PhysicalActivity": "No",
         "GenHealth": "Good",
         "SleepTime": 9,
         "Asthma": "Yes",
         "KidneyDisease": "No",
         "SkinCancer": "No",
         "_deepnote_index_column": 7
        },
        {
         "HeartDisease": "No",
         "BMI": 26.45,
         "Smoking": "No",
         "AlcoholDrinking": "No",
         "Stroke": "No",
         "PhysicalHealth": 0,
         "MentalHealth": 0,
         "DiffWalking": "No",
         "Sex": "Female",
         "AgeCategory": "80 or older",
         "Race": "White",
         "Diabetic": "No, borderline diabetes",
         "PhysicalActivity": "No",
         "GenHealth": "Fair",
         "SleepTime": 5,
         "Asthma": "No",
         "KidneyDisease": "Yes",
         "SkinCancer": "No",
         "_deepnote_index_column": 8
        },
        {
         "HeartDisease": "No",
         "BMI": 40.69,
         "Smoking": "No",
         "AlcoholDrinking": "No",
         "Stroke": "No",
         "PhysicalHealth": 0,
         "MentalHealth": 0,
         "DiffWalking": "Yes",
         "Sex": "Male",
         "AgeCategory": "65-69",
         "Race": "White",
         "Diabetic": "No",
         "PhysicalActivity": "Yes",
         "GenHealth": "Good",
         "SleepTime": 10,
         "Asthma": "No",
         "KidneyDisease": "No",
         "SkinCancer": "No",
         "_deepnote_index_column": 9
        }
       ]
      },
      "text/plain": "       HeartDisease    BMI Smoking AlcoholDrinking Stroke  PhysicalHealth  \\\n0                No  16.60     Yes              No     No             3.0   \n1                No  20.34      No              No    Yes             0.0   \n2                No  26.58     Yes              No     No            20.0   \n3                No  24.21      No              No     No             0.0   \n4                No  23.71      No              No     No            28.0   \n...             ...    ...     ...             ...    ...             ...   \n319790          Yes  27.41     Yes              No     No             7.0   \n319791           No  29.84     Yes              No     No             0.0   \n319792           No  24.24      No              No     No             0.0   \n319793           No  32.81      No              No     No             0.0   \n319794           No  46.56      No              No     No             0.0   \n\n        MentalHealth DiffWalking     Sex  AgeCategory      Race Diabetic  \\\n0               30.0          No  Female        55-59     White      Yes   \n1                0.0          No  Female  80 or older     White       No   \n2               30.0          No    Male        65-69     White      Yes   \n3                0.0          No  Female        75-79     White       No   \n4                0.0         Yes  Female        40-44     White       No   \n...              ...         ...     ...          ...       ...      ...   \n319790           0.0         Yes    Male        60-64  Hispanic      Yes   \n319791           0.0          No    Male        35-39  Hispanic       No   \n319792           0.0          No  Female        45-49  Hispanic       No   \n319793           0.0          No  Female        25-29  Hispanic       No   \n319794           0.0          No  Female  80 or older  Hispanic       No   \n\n       PhysicalActivity  GenHealth  SleepTime Asthma KidneyDisease SkinCancer  \n0                   Yes  Very good        5.0    Yes            No        Yes  \n1                   Yes  Very good        7.0     No            No         No  \n2                   Yes       Fair        8.0    Yes            No         No  \n3                    No       Good        6.0     No            No        Yes  \n4                   Yes  Very good        8.0     No            No         No  \n...                 ...        ...        ...    ...           ...        ...  \n319790               No       Fair        6.0    Yes            No         No  \n319791              Yes  Very good        5.0    Yes            No         No  \n319792              Yes       Good        6.0     No            No         No  \n319793               No       Good       12.0     No            No         No  \n319794              Yes       Good        8.0     No            No         No  \n\n[319795 rows x 18 columns]",
      "text/html": "<div>\n<style scoped>\n    .dataframe tbody tr th:only-of-type {\n        vertical-align: middle;\n    }\n\n    .dataframe tbody tr th {\n        vertical-align: top;\n    }\n\n    .dataframe thead th {\n        text-align: right;\n    }\n</style>\n<table border=\"1\" class=\"dataframe\">\n  <thead>\n    <tr style=\"text-align: right;\">\n      <th></th>\n      <th>HeartDisease</th>\n      <th>BMI</th>\n      <th>Smoking</th>\n      <th>AlcoholDrinking</th>\n      <th>Stroke</th>\n      <th>PhysicalHealth</th>\n      <th>MentalHealth</th>\n      <th>DiffWalking</th>\n      <th>Sex</th>\n      <th>AgeCategory</th>\n      <th>Race</th>\n      <th>Diabetic</th>\n      <th>PhysicalActivity</th>\n      <th>GenHealth</th>\n      <th>SleepTime</th>\n      <th>Asthma</th>\n      <th>KidneyDisease</th>\n      <th>SkinCancer</th>\n    </tr>\n  </thead>\n  <tbody>\n    <tr>\n      <th>0</th>\n      <td>No</td>\n      <td>16.60</td>\n      <td>Yes</td>\n      <td>No</td>\n      <td>No</td>\n      <td>3.0</td>\n      <td>30.0</td>\n      <td>No</td>\n      <td>Female</td>\n      <td>55-59</td>\n      <td>White</td>\n      <td>Yes</td>\n      <td>Yes</td>\n      <td>Very good</td>\n      <td>5.0</td>\n      <td>Yes</td>\n      <td>No</td>\n      <td>Yes</td>\n    </tr>\n    <tr>\n      <th>1</th>\n      <td>No</td>\n      <td>20.34</td>\n      <td>No</td>\n      <td>No</td>\n      <td>Yes</td>\n      <td>0.0</td>\n      <td>0.0</td>\n      <td>No</td>\n      <td>Female</td>\n      <td>80 or older</td>\n      <td>White</td>\n      <td>No</td>\n      <td>Yes</td>\n      <td>Very good</td>\n      <td>7.0</td>\n      <td>No</td>\n      <td>No</td>\n      <td>No</td>\n    </tr>\n    <tr>\n      <th>2</th>\n      <td>No</td>\n      <td>26.58</td>\n      <td>Yes</td>\n      <td>No</td>\n      <td>No</td>\n      <td>20.0</td>\n      <td>30.0</td>\n      <td>No</td>\n      <td>Male</td>\n      <td>65-69</td>\n      <td>White</td>\n      <td>Yes</td>\n      <td>Yes</td>\n      <td>Fair</td>\n      <td>8.0</td>\n      <td>Yes</td>\n      <td>No</td>\n      <td>No</td>\n    </tr>\n    <tr>\n      <th>3</th>\n      <td>No</td>\n      <td>24.21</td>\n      <td>No</td>\n      <td>No</td>\n      <td>No</td>\n      <td>0.0</td>\n      <td>0.0</td>\n      <td>No</td>\n      <td>Female</td>\n      <td>75-79</td>\n      <td>White</td>\n      <td>No</td>\n      <td>No</td>\n      <td>Good</td>\n      <td>6.0</td>\n      <td>No</td>\n      <td>No</td>\n      <td>Yes</td>\n    </tr>\n    <tr>\n      <th>4</th>\n      <td>No</td>\n      <td>23.71</td>\n      <td>No</td>\n      <td>No</td>\n      <td>No</td>\n      <td>28.0</td>\n      <td>0.0</td>\n      <td>Yes</td>\n      <td>Female</td>\n      <td>40-44</td>\n      <td>White</td>\n      <td>No</td>\n      <td>Yes</td>\n      <td>Very good</td>\n      <td>8.0</td>\n      <td>No</td>\n      <td>No</td>\n      <td>No</td>\n    </tr>\n    <tr>\n      <th>...</th>\n      <td>...</td>\n      <td>...</td>\n      <td>...</td>\n      <td>...</td>\n      <td>...</td>\n      <td>...</td>\n      <td>...</td>\n      <td>...</td>\n      <td>...</td>\n      <td>...</td>\n      <td>...</td>\n      <td>...</td>\n      <td>...</td>\n      <td>...</td>\n      <td>...</td>\n      <td>...</td>\n      <td>...</td>\n      <td>...</td>\n    </tr>\n    <tr>\n      <th>319790</th>\n      <td>Yes</td>\n      <td>27.41</td>\n      <td>Yes</td>\n      <td>No</td>\n      <td>No</td>\n      <td>7.0</td>\n      <td>0.0</td>\n      <td>Yes</td>\n      <td>Male</td>\n      <td>60-64</td>\n      <td>Hispanic</td>\n      <td>Yes</td>\n      <td>No</td>\n      <td>Fair</td>\n      <td>6.0</td>\n      <td>Yes</td>\n      <td>No</td>\n      <td>No</td>\n    </tr>\n    <tr>\n      <th>319791</th>\n      <td>No</td>\n      <td>29.84</td>\n      <td>Yes</td>\n      <td>No</td>\n      <td>No</td>\n      <td>0.0</td>\n      <td>0.0</td>\n      <td>No</td>\n      <td>Male</td>\n      <td>35-39</td>\n      <td>Hispanic</td>\n      <td>No</td>\n      <td>Yes</td>\n      <td>Very good</td>\n      <td>5.0</td>\n      <td>Yes</td>\n      <td>No</td>\n      <td>No</td>\n    </tr>\n    <tr>\n      <th>319792</th>\n      <td>No</td>\n      <td>24.24</td>\n      <td>No</td>\n      <td>No</td>\n      <td>No</td>\n      <td>0.0</td>\n      <td>0.0</td>\n      <td>No</td>\n      <td>Female</td>\n      <td>45-49</td>\n      <td>Hispanic</td>\n      <td>No</td>\n      <td>Yes</td>\n      <td>Good</td>\n      <td>6.0</td>\n      <td>No</td>\n      <td>No</td>\n      <td>No</td>\n    </tr>\n    <tr>\n      <th>319793</th>\n      <td>No</td>\n      <td>32.81</td>\n      <td>No</td>\n      <td>No</td>\n      <td>No</td>\n      <td>0.0</td>\n      <td>0.0</td>\n      <td>No</td>\n      <td>Female</td>\n      <td>25-29</td>\n      <td>Hispanic</td>\n      <td>No</td>\n      <td>No</td>\n      <td>Good</td>\n      <td>12.0</td>\n      <td>No</td>\n      <td>No</td>\n      <td>No</td>\n    </tr>\n    <tr>\n      <th>319794</th>\n      <td>No</td>\n      <td>46.56</td>\n      <td>No</td>\n      <td>No</td>\n      <td>No</td>\n      <td>0.0</td>\n      <td>0.0</td>\n      <td>No</td>\n      <td>Female</td>\n      <td>80 or older</td>\n      <td>Hispanic</td>\n      <td>No</td>\n      <td>Yes</td>\n      <td>Good</td>\n      <td>8.0</td>\n      <td>No</td>\n      <td>No</td>\n      <td>No</td>\n    </tr>\n  </tbody>\n</table>\n<p>319795 rows × 18 columns</p>\n</div>"
     },
     "metadata": {}
    }
   ],
   "execution_count": 3
  },
  {
   "cell_type": "markdown",
   "source": "## Exploratory Data Analysis 🚀",
   "metadata": {
    "cell_id": "bb85dbf17725462189db11ff8ae4767a",
    "tags": [],
    "deepnote_cell_type": "markdown",
    "deepnote_cell_height": 69.96875
   }
  },
  {
   "cell_type": "code",
   "source": "heart_df.info()",
   "metadata": {
    "cell_id": "82ccf699c6914bc9baafd1f7b43c8706",
    "tags": [],
    "deepnote_to_be_reexecuted": false,
    "source_hash": "4e74b8d0",
    "execution_start": 1654270266258,
    "execution_millis": 217,
    "deepnote_cell_type": "code",
    "deepnote_cell_height": 583.421875
   },
   "outputs": [
    {
     "name": "stdout",
     "text": "<class 'pandas.core.frame.DataFrame'>\nRangeIndex: 319795 entries, 0 to 319794\nData columns (total 18 columns):\n #   Column            Non-Null Count   Dtype  \n---  ------            --------------   -----  \n 0   HeartDisease      319795 non-null  object \n 1   BMI               319795 non-null  float64\n 2   Smoking           319795 non-null  object \n 3   AlcoholDrinking   319795 non-null  object \n 4   Stroke            319795 non-null  object \n 5   PhysicalHealth    319795 non-null  float64\n 6   MentalHealth      319795 non-null  float64\n 7   DiffWalking       319795 non-null  object \n 8   Sex               319795 non-null  object \n 9   AgeCategory       319795 non-null  object \n 10  Race              319795 non-null  object \n 11  Diabetic          319795 non-null  object \n 12  PhysicalActivity  319795 non-null  object \n 13  GenHealth         319795 non-null  object \n 14  SleepTime         319795 non-null  float64\n 15  Asthma            319795 non-null  object \n 16  KidneyDisease     319795 non-null  object \n 17  SkinCancer        319795 non-null  object \ndtypes: float64(4), object(14)\nmemory usage: 43.9+ MB\n",
     "output_type": "stream"
    }
   ],
   "execution_count": 5
  },
  {
   "cell_type": "markdown",
   "source": "## Exploratory Data Visualization 📈\n\nI used [\"data to viz\"](https://www.data-to-viz.com/) cite to explore various varibales visually",
   "metadata": {
    "cell_id": "c4514e0ac08b4b2e98aae8f281fad98a",
    "tags": [],
    "owner_user_id": "5975b3a2-0c06-47c4-9101-52ccc60fb52d",
    "deepnote_cell_type": "markdown",
    "deepnote_cell_height": 108.359375
   }
  },
  {
   "cell_type": "markdown",
   "source": "### Visualizing Distribution",
   "metadata": {
    "cell_id": "0dae8dbed94046f78dad81744cf03b6a",
    "tags": [],
    "deepnote_cell_type": "markdown",
    "deepnote_cell_height": 61.953125
   }
  },
  {
   "cell_type": "code",
   "source": "g = sns.displot(heart_df['BMI'],\n            color=\"hotpink\",\n            kde=True, # disables kde\n            bins=20)\ng.fig.set_figwidth(12) # increases the width of Seaborn chart\ng.fig.set_figheight(7) # increases the height of Seaborn chart",
   "metadata": {
    "cell_id": "6e1ceb2b01ba464c896f81ae010c536f",
    "tags": [],
    "deepnote_to_be_reexecuted": false,
    "source_hash": "744e2ee",
    "execution_start": 1654272709829,
    "execution_millis": 2908,
    "deepnote_cell_type": "code",
    "deepnote_cell_height": 663.9375,
    "deepnote_output_heights": [
     476.984375
    ]
   },
   "outputs": [
    {
     "data": {
      "text/plain": "<Figure size 864x504 with 1 Axes>",
      "image/png": "[encoded data removed]"
     },
     "metadata": {
      "needs_background": "light",
      "image/png": {
       "width": 744,
       "height": 475
      }
     },
     "output_type": "display_data"
    }
   ],
   "execution_count": 24
  },
  {
   "cell_type": "markdown",
   "source": "### Visualizing descriptive statistics",
   "metadata": {
    "cell_id": "078434c0223e49059dca561a0b14a2fe",
    "tags": [],
    "deepnote_cell_type": "markdown",
    "deepnote_cell_height": 61.953125
   }
  },
  {
   "cell_type": "code",
   "source": "ax, fig = plt.subplots(figsize=[10,9]) # sets figure size\nsns.countplot(x='Smoking', hue='Sex', data=heart_df) # for purely categorical\nplt.show()",
   "metadata": {
    "cell_id": "08c074adb23c494592cb4013006e2478",
    "tags": [],
    "deepnote_to_be_reexecuted": false,
    "source_hash": "406bff7f",
    "execution_start": 1654272515702,
    "execution_millis": 717,
    "deepnote_cell_type": "code",
    "deepnote_cell_height": 668.9375,
    "deepnote_output_heights": [
     535.984375,
     263.984375
    ]
   },
   "outputs": [
    {
     "data": {
      "text/plain": "<Figure size 720x648 with 1 Axes>",
      "image/png": "[encoded data removed]"
     },
     "metadata": {
      "needs_background": "light",
      "image/png": {
       "width": 631,
       "height": 534
      }
     },
     "output_type": "display_data"
    }
   ],
   "execution_count": 21
  },
  {
   "cell_type": "code",
   "source": "ax, fig = plt.subplots(figsize=[12,9]) # sets figure size\nsns.boxplot(y='BMI', x='Sex',hue='Smoking', data=heart_df)\nplt.show()",
   "metadata": {
    "cell_id": "c471f06fb16f49da838fdd43640fb745",
    "tags": [],
    "deepnote_to_be_reexecuted": false,
    "source_hash": "6ff18e63",
    "execution_start": 1654272549104,
    "execution_millis": 647,
    "deepnote_cell_type": "code",
    "deepnote_cell_height": 668.9375,
    "deepnote_output_heights": [
     535.984375,
     263.984375
    ]
   },
   "outputs": [
    {
     "data": {
      "text/plain": "<Figure size 864x648 with 1 Axes>",
      "image/png": "[encoded data removed]"
     },
     "metadata": {
      "needs_background": "light",
      "image/png": {
       "width": 717,
       "height": 534
      }
     },
     "output_type": "display_data"
    }
   ],
   "execution_count": 23
  },
  {
   "cell_type": "markdown",
   "source": "<a style='text-decoration:none;line-height:16px;display:flex;color:#5B5B62;padding:10px;justify-content:end;' href='https://deepnote.com?utm_source=created-in-deepnote-cell&projectId=5032a196-dce0-4509-a217-2b2b4586d05b' target=\"_blank\">\n<img alt='Created in deepnote.com' style='display:inline;max-height:16px;margin:0px;margin-right:7.5px;' src='data:image/svg+xml;base64,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' > </img>\nCreated in <span style='font-weight:600;margin-left:4px;'>Deepnote</span></a>",
   "metadata": {
    "tags": [],
    "created_in_deepnote_cell": true,
    "deepnote_cell_type": "markdown"
   }
  }
 ],
 "nbformat": 4,
 "nbformat_minor": 2,
 "metadata": {
  "orig_nbformat": 2,
  "deepnote": {},
  "deepnote_notebook_id": "bfedaf3e-8074-4a89-9d0f-b5435bd2bb7b",
  "deepnote_execution_queue": []
 }
}